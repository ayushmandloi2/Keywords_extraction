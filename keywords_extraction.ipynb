{
 "cells": [
  {
   "cell_type": "code",
   "execution_count": 434,
   "metadata": {},
   "outputs": [],
   "source": [
    "import nltk\n",
    "import string\n",
    "import re\n",
    "from nltk.corpus import stopwords\n",
    "from nltk.tokenize import word_tokenize\n",
    "import pandas as pd"
   ]
  },
  {
   "cell_type": "code",
   "execution_count": 435,
   "metadata": {},
   "outputs": [],
   "source": [
    "import PyPDF2 "
   ]
  },
  {
   "cell_type": "code",
   "execution_count": 436,
   "metadata": {},
   "outputs": [],
   "source": [
    "from pdfminer.pdfinterp import PDFResourceManager, PDFPageInterpreter#process_pdf\n",
    "from pdfminer.pdfpage import PDFPage\n",
    "from pdfminer.converter import TextConverter\n",
    "from pdfminer.layout import LAParams\n",
    "import string\n",
    "from cStringIO import StringIO\n",
    "import re\n",
    "from nltk.stem import PorterStemmer\n",
    "from sklearn.feature_extraction.text import TfidfVectorizer\n",
    "import numpy as np\n",
    "import json\n",
    "\n",
    "    # PDFMiner boilerplate"
   ]
  },
  {
   "cell_type": "code",
   "execution_count": 437,
   "metadata": {},
   "outputs": [],
   "source": [
    "fp=file(\"G:/ml/imp/JavaBasics-notes.pdf\", 'rb')"
   ]
  },
  {
   "cell_type": "code",
   "execution_count": 438,
   "metadata": {},
   "outputs": [],
   "source": [
    "def extract_Text(files):\n",
    "   \n",
    "    l=[]\n",
    "        # Extract text\n",
    "    \n",
    "    for page in PDFPage.get_pages(files):\n",
    "        rsrcmgr = PDFResourceManager()\n",
    "        sio = StringIO()\n",
    "        codec = 'utf-8'\n",
    "        laparams = LAParams()\n",
    "        device = TextConverter(rsrcmgr, sio, codec=codec, laparams=laparams)\n",
    "        interpreter = PDFPageInterpreter(rsrcmgr, device)\n",
    "        interpreter.process_page(page)\n",
    "        l.append(sio.getvalue())\n",
    "        device.close()\n",
    "        sio.close()\n",
    "    \n",
    "        # Get text from StringIO\n",
    "\n",
    "   \n",
    "        # Cleanup\n",
    "    \n",
    "    return l\n"
   ]
  },
  {
   "cell_type": "code",
   "execution_count": 439,
   "metadata": {},
   "outputs": [],
   "source": [
    "list_pages=extract_Text(fp)"
   ]
  },
  {
   "cell_type": "code",
   "execution_count": 440,
   "metadata": {},
   "outputs": [],
   "source": [
    "def convertLine(list_pages):\n",
    "    spl =[]\n",
    "    for x in list_pages:\n",
    "        x = ' '.join(x.split())\n",
    "        spl.append(x.lower())\n",
    "    return spl\n",
    "        "
   ]
  },
  {
   "cell_type": "code",
   "execution_count": 441,
   "metadata": {},
   "outputs": [],
   "source": [
    "list_pages=convertLine(list_pages)"
   ]
  },
  {
   "cell_type": "code",
   "execution_count": 442,
   "metadata": {},
   "outputs": [],
   "source": [
    "def remove_punc(st):\n",
    "    st_spl=st.split()\n",
    "    st_spl[:] = [value.translate(None, string.punctuation) for value in st_spl]\n",
    "    st_spl[:] = [value for value in st_spl if not any(c.isdigit() for c in value)]\n",
    "    st_spl[:] = [value.decode(\"ascii\", errors=\"ignore\").encode() for value in st_spl]\n",
    "    \n",
    "    return ' '.join(st_spl)"
   ]
  },
  {
   "cell_type": "code",
   "execution_count": 443,
   "metadata": {},
   "outputs": [],
   "source": [
    "stop_words = set(stopwords.words('english'))"
   ]
  },
  {
   "cell_type": "code",
   "execution_count": 444,
   "metadata": {},
   "outputs": [],
   "source": [
    "\n",
    "def filtered_sent(splitted_page):\n",
    "    filtered_sentence = [w for w in splitted_page if not w in stop_words]\n",
    "#     filtered_sentence =[]\n",
    "#     for w in splitted_page:\n",
    "#         if w not in stop_words:\n",
    "#             filtered_sentence.append(w)\n",
    "    return (filtered_sentence)"
   ]
  },
  {
   "cell_type": "code",
   "execution_count": 445,
   "metadata": {},
   "outputs": [],
   "source": [
    "import nltk\n",
    "import nltk\n",
    "\n",
    "from nltk.stem import PorterStemmer\n",
    "def stem_word(filtered_sentence):\n",
    "    lemma = nltk.wordnet.WordNetLemmatizer()\n",
    "    \n",
    "    words=\"\"\n",
    "    for w in filtered_sentence:\n",
    "        stemmer=lemma.lemmatize(w,pos=\"v\")\n",
    "        stemmer=lemma.lemmatize(stemmer)\n",
    "        \n",
    "        words+=stemmer+\" \"\n",
    "    return words"
   ]
  },
  {
   "cell_type": "code",
   "execution_count": 446,
   "metadata": {},
   "outputs": [],
   "source": [
    "def check_imp(prop):\n",
    "    vectorizer = TfidfVectorizer(min_df=1,max_df=0.8,stop_words='english',analyzer=\"word\")\n",
    "    X = vectorizer.fit_transform(prop)\n",
    "    idf =vectorizer.idf_\n",
    "    m=dict(zip(vectorizer.get_feature_names(), idf))\n",
    "    z = json.dumps(m)\n",
    "\n",
    "    return (m)"
   ]
  },
  {
   "cell_type": "code",
   "execution_count": 447,
   "metadata": {},
   "outputs": [],
   "source": [
    "list_pages=convertLine(list_pages)\n",
    "preprocessed_list=[]\n",
    "word_import={}\n",
    "for x in list_pages:\n",
    "#     page=split_pages(x)\n",
    "    \n",
    "    pag=remove_punc(x)\n",
    "    \n",
    "    filtered_sentence=filtered_sent(pag.split())\n",
    "    \n",
    "    stemmed_word = stem_word(filtered_sentence)\n",
    "    preprocessed_list.append(stemmed_word)    \n",
    "        \n",
    "word_import=check_imp(preprocessed_list)"
   ]
  },
  {
   "cell_type": "code",
   "execution_count": 448,
   "metadata": {
    "scrolled": true
   },
   "outputs": [],
   "source": [
    "z= sorted(word_import.items(), key=lambda item: item[1],reverse =True)"
   ]
  },
  {
   "cell_type": "code",
   "execution_count": 449,
   "metadata": {},
   "outputs": [],
   "source": [
    "top50 = z[:50]"
   ]
  },
  {
   "cell_type": "code",
   "execution_count": 454,
   "metadata": {},
   "outputs": [],
   "source": [
    "l0=[]\n",
    "l1=[]\n",
    "for x in top50:\n",
    "    l0.append(x[0])\n",
    "    l1.append(x[1])\n",
    "\n"
   ]
  },
  {
   "cell_type": "code",
   "execution_count": 453,
   "metadata": {},
   "outputs": [],
   "source": [
    "submission1 = pd.DataFrame({'Keywords': l0,'Weightage': l1})\n",
    "submission1.to_csv('G:/ml/imp/submission1.csv')"
   ]
  },
  {
   "cell_type": "code",
   "execution_count": null,
   "metadata": {},
   "outputs": [],
   "source": []
  },
  {
   "cell_type": "code",
   "execution_count": null,
   "metadata": {},
   "outputs": [],
   "source": []
  }
 ],
 "metadata": {
  "kernelspec": {
   "display_name": "Python 2",
   "language": "python",
   "name": "python2"
  },
  "language_info": {
   "codemirror_mode": {
    "name": "ipython",
    "version": 2
   },
   "file_extension": ".py",
   "mimetype": "text/x-python",
   "name": "python",
   "nbconvert_exporter": "python",
   "pygments_lexer": "ipython2",
   "version": "2.7.14"
  }
 },
 "nbformat": 4,
 "nbformat_minor": 2
}
